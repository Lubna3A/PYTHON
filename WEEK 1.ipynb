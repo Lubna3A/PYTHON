{
 "cells": [
  {
   "cell_type": "markdown",
   "id": "cae20e10",
   "metadata": {},
   "source": [
    "# Week one :"
   ]
  },
  {
   "cell_type": "markdown",
   "id": "a7230931",
   "metadata": {},
   "source": [
    "#### - Datatype \n",
    "\n",
    "#### - Expression and variable in python\n",
    "\n",
    "#### - single operations in python\n",
    "\n",
    "#### - Lists and Tuple in python\n",
    "\n",
    "#### - Dictionaries"
   ]
  },
  {
   "cell_type": "markdown",
   "id": "02b6c354",
   "metadata": {},
   "source": [
    "### Data type"
   ]
  },
  {
   "cell_type": "code",
   "execution_count": 1,
   "id": "a1c27993",
   "metadata": {},
   "outputs": [
    {
     "name": "stdout",
     "output_type": "stream",
     "text": [
      "11 34\n"
     ]
    }
   ],
   "source": [
    "L = 11\n",
    "A = 34\n",
    "print( L , A)"
   ]
  },
  {
   "cell_type": "code",
   "execution_count": 2,
   "id": "f0abd784",
   "metadata": {},
   "outputs": [
    {
     "data": {
      "text/plain": [
       "'Lubna Abdullah '"
      ]
     },
     "execution_count": 2,
     "metadata": {},
     "output_type": "execute_result"
    }
   ],
   "source": [
    "x = \"Lubna Abdullah \"\n",
    "x"
   ]
  },
  {
   "cell_type": "code",
   "execution_count": 3,
   "id": "6db2e6a9",
   "metadata": {},
   "outputs": [
    {
     "name": "stdout",
     "output_type": "stream",
     "text": [
      "{'Name': 'Lubna', 'Age': '22', 'City': 'Dammam'} \n",
      " the type is <class 'dict'> \n",
      "\n"
     ]
    }
   ],
   "source": [
    "y = {'Name':'Lubna','Age':'22','City':'Dammam'}\n",
    "print(y,'\\n the type is',type(y),'\\n')"
   ]
  },
  {
   "cell_type": "code",
   "execution_count": 5,
   "id": "9811331f",
   "metadata": {},
   "outputs": [
    {
     "name": "stdout",
     "output_type": "stream",
     "text": [
      "is g equal to h:  False\n",
      "is g equal to h:  True\n"
     ]
    }
   ],
   "source": [
    "s=2\n",
    "c=4\n",
    "m=2\n",
    "print('is g equal to h: ',s==c)\n",
    "print('is g equal to h: ',m==s)"
   ]
  },
  {
   "cell_type": "markdown",
   "id": "1f937b3b",
   "metadata": {},
   "source": [
    "### Expression and variable in python"
   ]
  },
  {
   "cell_type": "code",
   "execution_count": 7,
   "id": "7f2e0ed1",
   "metadata": {},
   "outputs": [
    {
     "data": {
      "text/plain": [
       "3"
      ]
     },
     "execution_count": 7,
     "metadata": {},
     "output_type": "execute_result"
    }
   ],
   "source": [
    "d = 3\n",
    "result = d*2+5\n",
    "d"
   ]
  },
  {
   "cell_type": "code",
   "execution_count": 9,
   "id": "2cabcf7a",
   "metadata": {},
   "outputs": [
    {
     "name": "stdout",
     "output_type": "stream",
     "text": [
      "57.82222222222222\n"
     ]
    }
   ],
   "source": [
    "z =56\n",
    "k =90\n",
    "b=82\n",
    "Re =z+b*2/k\n",
    "print(Re)"
   ]
  },
  {
   "cell_type": "markdown",
   "id": "e0cb0d3b",
   "metadata": {},
   "source": [
    "### Single Operators"
   ]
  },
  {
   "cell_type": "markdown",
   "id": "23b168a0",
   "metadata": {},
   "source": [
    "#### Assignment Operators"
   ]
  },
  {
   "cell_type": "code",
   "execution_count": 15,
   "id": "65479677",
   "metadata": {},
   "outputs": [
    {
     "name": "stdout",
     "output_type": "stream",
     "text": [
      "15\n"
     ]
    }
   ],
   "source": [
    "x = 5\n",
    "\n",
    "x *= 3\n",
    "\n",
    "print(x)"
   ]
  },
  {
   "cell_type": "code",
   "execution_count": 11,
   "id": "9b655d3f",
   "metadata": {},
   "outputs": [
    {
     "name": "stdout",
     "output_type": "stream",
     "text": [
      "1\n"
     ]
    }
   ],
   "source": [
    "x = 5\n",
    "\n",
    "x &= 3\n",
    "\n",
    "print(x)"
   ]
  },
  {
   "cell_type": "code",
   "execution_count": 13,
   "id": "a8b87894",
   "metadata": {},
   "outputs": [
    {
     "name": "stdout",
     "output_type": "stream",
     "text": [
      "5\n"
     ]
    }
   ],
   "source": [
    "x = 5\n",
    "\n",
    "x%=6\n",
    "\n",
    "print(x)"
   ]
  },
  {
   "cell_type": "code",
   "execution_count": 14,
   "id": "52b39a9c",
   "metadata": {},
   "outputs": [
    {
     "name": "stdout",
     "output_type": "stream",
     "text": [
      "72\n"
     ]
    }
   ],
   "source": [
    "x = 9\n",
    "\n",
    "x <<= 3\n",
    "\n",
    "print(x)"
   ]
  },
  {
   "cell_type": "markdown",
   "id": "eaabfd9d",
   "metadata": {},
   "source": [
    "#### Comparison Operators"
   ]
  },
  {
   "cell_type": "code",
   "execution_count": 16,
   "id": "b8814459",
   "metadata": {},
   "outputs": [
    {
     "name": "stdout",
     "output_type": "stream",
     "text": [
      "False\n"
     ]
    }
   ],
   "source": [
    "x = 5\n",
    "y = 8\n",
    "\n",
    "print(x >= y)\n",
    "\n",
    "# returns False because 8 is greater, or equal, to 5\n"
   ]
  },
  {
   "cell_type": "code",
   "execution_count": 17,
   "id": "d34f97b5",
   "metadata": {},
   "outputs": [
    {
     "name": "stdout",
     "output_type": "stream",
     "text": [
      "True\n"
     ]
    }
   ],
   "source": [
    "x = 5\n",
    "\n",
    "print(x > 3 or x < 4)\n",
    "\n",
    "# returns True because one of the conditions are true (5 is greater than 3, but 5 is not less than 4)\n"
   ]
  },
  {
   "cell_type": "code",
   "execution_count": 18,
   "id": "b0924a8c",
   "metadata": {},
   "outputs": [
    {
     "name": "stdout",
     "output_type": "stream",
     "text": [
      "False\n"
     ]
    }
   ],
   "source": [
    "x = 5\n",
    "\n",
    "print(not(x > 3 and x < 10))\n",
    "\n",
    "# returns False because not is used to reverse the result"
   ]
  },
  {
   "cell_type": "markdown",
   "id": "1ff4637d",
   "metadata": {},
   "source": [
    "#### Identity Operators\n"
   ]
  },
  {
   "cell_type": "code",
   "execution_count": 19,
   "id": "1decbb73",
   "metadata": {},
   "outputs": [
    {
     "name": "stdout",
     "output_type": "stream",
     "text": [
      "False\n",
      "True\n",
      "False\n"
     ]
    }
   ],
   "source": [
    "x = [\"Lubna\", \"Abdullah\"]\n",
    "y =  [\"Lubna\", \"Abdullah\"]\n",
    "z = x\n",
    "\n",
    "print(x is not z)\n",
    "\n",
    "# returns False because z is the same object as x\n",
    "\n",
    "print(x is not y)\n",
    "\n",
    "# returns True because x is not the same object as y, even if they have the same content\n",
    "\n",
    "print(x != y)\n",
    "\n",
    "# to demonstrate the difference betweeen \"is not\" and \"!=\": this comparison returns False because x is equal to y"
   ]
  },
  {
   "cell_type": "markdown",
   "id": "971125d0",
   "metadata": {},
   "source": [
    "### List & Tuple"
   ]
  },
  {
   "cell_type": "markdown",
   "id": "dd02c708",
   "metadata": {},
   "source": [
    "#### LIST"
   ]
  },
  {
   "cell_type": "code",
   "execution_count": 20,
   "id": "6846f430",
   "metadata": {},
   "outputs": [
    {
     "name": "stdout",
     "output_type": "stream",
     "text": [
      "['L', 'A', 'Q']\n"
     ]
    }
   ],
   "source": [
    "thislist = [\"L\", \"A\", \"Q\"]\n",
    "print(thislist)"
   ]
  },
  {
   "cell_type": "code",
   "execution_count": 21,
   "id": "5c774a00",
   "metadata": {},
   "outputs": [
    {
     "name": "stdout",
     "output_type": "stream",
     "text": [
      "3\n"
     ]
    }
   ],
   "source": [
    "thislist = [\"L\", \"A\", \"Q\"]\n",
    "print(len(thislist))"
   ]
  },
  {
   "cell_type": "markdown",
   "id": "0ac67638",
   "metadata": {},
   "source": [
    "#### Tuple"
   ]
  },
  {
   "cell_type": "code",
   "execution_count": 22,
   "id": "de12967f",
   "metadata": {},
   "outputs": [
    {
     "name": "stdout",
     "output_type": "stream",
     "text": [
      "<class 'tuple'>\n",
      "<class 'str'>\n"
     ]
    }
   ],
   "source": [
    "thistuple = (\"LUBNA\",)\n",
    "print(type(thistuple))\n",
    "\n",
    "#NOT a tuple\n",
    "thistuple = (\"Abdullah\")\n",
    "print(type(thistuple))"
   ]
  },
  {
   "cell_type": "markdown",
   "id": "14b69676",
   "metadata": {},
   "source": [
    "### Dictionaries\n"
   ]
  },
  {
   "cell_type": "code",
   "execution_count": 25,
   "id": "36bd0059",
   "metadata": {},
   "outputs": [
    {
     "name": "stdout",
     "output_type": "stream",
     "text": [
      "lubna\n"
     ]
    }
   ],
   "source": [
    "dict = {\n",
    "  \"name\": \"lubna\",\n",
    "  \"age\": 22,\n",
    "  \"birthday\": 2001\n",
    "}\n",
    "print(dict[\"name\"])"
   ]
  },
  {
   "cell_type": "code",
   "execution_count": null,
   "id": "b406999b",
   "metadata": {},
   "outputs": [],
   "source": []
  }
 ],
 "metadata": {
  "kernelspec": {
   "display_name": "Python 3 (ipykernel)",
   "language": "python",
   "name": "python3"
  },
  "language_info": {
   "codemirror_mode": {
    "name": "ipython",
    "version": 3
   },
   "file_extension": ".py",
   "mimetype": "text/x-python",
   "name": "python",
   "nbconvert_exporter": "python",
   "pygments_lexer": "ipython3",
   "version": "3.10.9"
  }
 },
 "nbformat": 4,
 "nbformat_minor": 5
}
