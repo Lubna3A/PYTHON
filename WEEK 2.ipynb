{
 "cells": [
  {
   "cell_type": "markdown",
   "id": "e74c74f6",
   "metadata": {},
   "source": [
    "### week 2\n",
    "\n",
    "#### 1- sets\n",
    "#### 2- condition and branching\n",
    "#### 3- loops\n",
    "#### 4- functions\n",
    "#### 5- Exceptions Handling\n",
    "#### 6- Objects and classes "
   ]
  },
  {
   "cell_type": "markdown",
   "id": "111fa00c",
   "metadata": {},
   "source": [
    "### Sets "
   ]
  },
  {
   "cell_type": "code",
   "execution_count": 2,
   "id": "19b2f9eb",
   "metadata": {},
   "outputs": [],
   "source": [
    "set1 = {\"Lubna\", \"Abdullah\", \"Alqahtani\"}\n",
    "set2 = {3, 12, 21, 11, 1}\n",
    "set3 = {True, False, False}"
   ]
  },
  {
   "cell_type": "code",
   "execution_count": 3,
   "id": "8f67c484",
   "metadata": {},
   "outputs": [
    {
     "name": "stdout",
     "output_type": "stream",
     "text": [
      "{'Abdullah', 'Alqahtani', 'Lubna'}\n",
      "{1, 3, 21, 11, 12}\n",
      "{False, True}\n"
     ]
    }
   ],
   "source": [
    "print(set1)\n",
    "print(set2)\n",
    "print(set3)"
   ]
  },
  {
   "cell_type": "markdown",
   "id": "16046846",
   "metadata": {},
   "source": [
    "###  Condition and Branching"
   ]
  },
  {
   "cell_type": "code",
   "execution_count": 4,
   "id": "c8c183de",
   "metadata": {},
   "outputs": [
    {
     "name": "stdout",
     "output_type": "stream",
     "text": [
      "S is greater than X\n"
     ]
    }
   ],
   "source": [
    "S = 189\n",
    "X = 13\n",
    "if S > X:\n",
    "  print(\"S is greater than X\")\n",
    "elif S == X:\n",
    "  print(\"S and X are equal\")\n",
    "else:\n",
    "  print(\"X is greater than S\")"
   ]
  },
  {
   "cell_type": "markdown",
   "id": "321c89f4",
   "metadata": {},
   "source": [
    "### Loops"
   ]
  },
  {
   "cell_type": "code",
   "execution_count": 19,
   "id": "b6fbfbac",
   "metadata": {},
   "outputs": [
    {
     "name": "stdout",
     "output_type": "stream",
     "text": [
      "Lubna\n",
      "Suha\n"
     ]
    }
   ],
   "source": [
    "Names = [\"Lubna\", \"Yomna\", \"Suha\"]\n",
    "for x in Names:\n",
    "    if x == \"Yomna\":\n",
    "         continue\n",
    "    print(x)"
   ]
  },
  {
   "cell_type": "code",
   "execution_count": 15,
   "id": "f6dc5ee3",
   "metadata": {},
   "outputs": [
    {
     "name": "stdout",
     "output_type": "stream",
     "text": [
      "A\n",
      "b\n",
      "d\n",
      "u\n",
      "l\n",
      "l\n",
      "a\n",
      "h\n"
     ]
    }
   ],
   "source": [
    "for x in \"Abdullah\":\n",
    "     print(x)\n"
   ]
  },
  {
   "cell_type": "markdown",
   "id": "f471e78a",
   "metadata": {},
   "source": [
    "### Functions"
   ]
  },
  {
   "cell_type": "code",
   "execution_count": 20,
   "id": "91326551",
   "metadata": {},
   "outputs": [
    {
     "name": "stdout",
     "output_type": "stream",
     "text": [
      "Hello from a function\n"
     ]
    }
   ],
   "source": [
    "def my_function():\n",
    "     print(\"Hello from a function\")\n",
    "\n",
    "my_function()\n"
   ]
  },
  {
   "cell_type": "code",
   "execution_count": 22,
   "id": "d9257053",
   "metadata": {},
   "outputs": [
    {
     "name": "stdout",
     "output_type": "stream",
     "text": [
      "The best student Yara\n"
     ]
    }
   ],
   "source": [
    "def my_function(std1, std2, std3):\n",
    "    print(\"The best student \" + std2)\n",
    "\n",
    "my_function(std1 = \"Yomna\", std2 = \"Yara\", std3 = \"Yusra\")"
   ]
  },
  {
   "cell_type": "markdown",
   "id": "72c685bc",
   "metadata": {},
   "source": [
    "### Exceptions Handling\n"
   ]
  },
  {
   "cell_type": "code",
   "execution_count": 23,
   "id": "5e5abedd",
   "metadata": {},
   "outputs": [
    {
     "name": "stdout",
     "output_type": "stream",
     "text": [
      "Enter your num: 20\n",
      "20\n"
     ]
    }
   ],
   "source": [
    "try :\n",
    "    num = int(input('Enter your num: '))\n",
    "    x = 21\n",
    "    risk = x * num\n",
    "    print(num)\n",
    "except ZeroDivisionError:\n",
    "    print('num cannot be 0.')\n",
    "except ValueError:\n",
    "    print('Invalid value')\n",
    "    "
   ]
  },
  {
   "cell_type": "markdown",
   "id": "50a3c04c",
   "metadata": {},
   "source": [
    "### Object and Classes"
   ]
  },
  {
   "cell_type": "code",
   "execution_count": 54,
   "id": "2bad4293",
   "metadata": {},
   "outputs": [
    {
     "name": "stdout",
     "output_type": "stream",
     "text": [
      "Hello my name is lubna\n"
     ]
    }
   ],
   "source": [
    "class DS:\n",
    "    def __init__(mysillyobject, name, age):\n",
    "        mysillyobject.name = name\n",
    "        mysillyobject.age = age\n",
    "    def myfunc(abc):\n",
    "        print(\"Hello my name is \" + abc.name)\n",
    "DX = DS(\"lubna\", 96)\n",
    "DX.myfunc()"
   ]
  },
  {
   "cell_type": "code",
   "execution_count": null,
   "id": "de29f465",
   "metadata": {},
   "outputs": [],
   "source": [
    "\n"
   ]
  }
 ],
 "metadata": {
  "kernelspec": {
   "display_name": "Python 3 (ipykernel)",
   "language": "python",
   "name": "python3"
  },
  "language_info": {
   "codemirror_mode": {
    "name": "ipython",
    "version": 3
   },
   "file_extension": ".py",
   "mimetype": "text/x-python",
   "name": "python",
   "nbconvert_exporter": "python",
   "pygments_lexer": "ipython3",
   "version": "3.10.9"
  }
 },
 "nbformat": 4,
 "nbformat_minor": 5
}
